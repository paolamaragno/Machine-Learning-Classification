{
 "cells": [
  {
   "cell_type": "markdown",
   "id": "551b9f24",
   "metadata": {},
   "source": [
    "<table width=100%>\n",
    "<tr>\n",
    "    <td><h1 style=\"text-align: left; font-size:300%;\">\n",
    "        Breast Cancer Dataset: Classification\n",
    "    </h1></td>\n",
    "    <td width=\"20%\">\n",
    "    <div style=\"text-align: right\">\n",
    "    <b> Machine Learning 2022</b> <br>\n",
    "    <b> \n",
    "    Paola Maragno  <br>\n",
    "    <a href=\"mailto:paola.maragno@mail.polimi.it\">paola.maragno@mail.polimi.it</a><br>\n",
    "    </div>\n",
    "    </td>\n",
    "</tr>\n",
    "</table>"
   ]
  },
  {
   "cell_type": "code",
   "execution_count": 1,
   "id": "efeccddf",
   "metadata": {},
   "outputs": [],
   "source": [
    "import matplotlib.pyplot as plt\n",
    "import seaborn as sns\n",
    "import pandas as pd\n",
    "import numpy as np\n",
    "import sklearn\n",
    "np.random.seed(0)"
   ]
  },
  {
   "cell_type": "markdown",
   "id": "45564784",
   "metadata": {},
   "source": [
    "# Data loading and pre-processing"
   ]
  },
  {
   "cell_type": "code",
   "execution_count": 2,
   "id": "06e55f75",
   "metadata": {},
   "outputs": [
    {
     "data": {
      "text/html": [
       "<div>\n",
       "<style scoped>\n",
       "    .dataframe tbody tr th:only-of-type {\n",
       "        vertical-align: middle;\n",
       "    }\n",
       "\n",
       "    .dataframe tbody tr th {\n",
       "        vertical-align: top;\n",
       "    }\n",
       "\n",
       "    .dataframe thead th {\n",
       "        text-align: right;\n",
       "    }\n",
       "</style>\n",
       "<table border=\"1\" class=\"dataframe\">\n",
       "  <thead>\n",
       "    <tr style=\"text-align: right;\">\n",
       "      <th></th>\n",
       "      <th>Sample code number</th>\n",
       "      <th>Clump Thickness</th>\n",
       "      <th>Uniformity of Cell Size</th>\n",
       "      <th>Uniformity of Cell Shape</th>\n",
       "      <th>Marginal Adhesion</th>\n",
       "      <th>Single Epithelial Cell Size</th>\n",
       "      <th>Bare Nuclei</th>\n",
       "      <th>Bland Chromatin</th>\n",
       "      <th>Normal Nucleoli</th>\n",
       "      <th>Mitoses</th>\n",
       "      <th>Class</th>\n",
       "    </tr>\n",
       "  </thead>\n",
       "  <tbody>\n",
       "    <tr>\n",
       "      <th>0</th>\n",
       "      <td>1000025</td>\n",
       "      <td>5</td>\n",
       "      <td>1</td>\n",
       "      <td>1</td>\n",
       "      <td>1</td>\n",
       "      <td>2</td>\n",
       "      <td>1</td>\n",
       "      <td>3</td>\n",
       "      <td>1</td>\n",
       "      <td>1</td>\n",
       "      <td>2</td>\n",
       "    </tr>\n",
       "    <tr>\n",
       "      <th>1</th>\n",
       "      <td>1002945</td>\n",
       "      <td>5</td>\n",
       "      <td>4</td>\n",
       "      <td>4</td>\n",
       "      <td>5</td>\n",
       "      <td>7</td>\n",
       "      <td>10</td>\n",
       "      <td>3</td>\n",
       "      <td>2</td>\n",
       "      <td>1</td>\n",
       "      <td>2</td>\n",
       "    </tr>\n",
       "    <tr>\n",
       "      <th>2</th>\n",
       "      <td>1015425</td>\n",
       "      <td>3</td>\n",
       "      <td>1</td>\n",
       "      <td>1</td>\n",
       "      <td>1</td>\n",
       "      <td>2</td>\n",
       "      <td>2</td>\n",
       "      <td>3</td>\n",
       "      <td>1</td>\n",
       "      <td>1</td>\n",
       "      <td>2</td>\n",
       "    </tr>\n",
       "    <tr>\n",
       "      <th>3</th>\n",
       "      <td>1016277</td>\n",
       "      <td>6</td>\n",
       "      <td>8</td>\n",
       "      <td>8</td>\n",
       "      <td>1</td>\n",
       "      <td>3</td>\n",
       "      <td>4</td>\n",
       "      <td>3</td>\n",
       "      <td>7</td>\n",
       "      <td>1</td>\n",
       "      <td>2</td>\n",
       "    </tr>\n",
       "    <tr>\n",
       "      <th>4</th>\n",
       "      <td>1017023</td>\n",
       "      <td>4</td>\n",
       "      <td>1</td>\n",
       "      <td>1</td>\n",
       "      <td>3</td>\n",
       "      <td>2</td>\n",
       "      <td>1</td>\n",
       "      <td>3</td>\n",
       "      <td>1</td>\n",
       "      <td>1</td>\n",
       "      <td>2</td>\n",
       "    </tr>\n",
       "  </tbody>\n",
       "</table>\n",
       "</div>"
      ],
      "text/plain": [
       "   Sample code number  Clump Thickness  Uniformity of Cell Size  \\\n",
       "0             1000025                5                        1   \n",
       "1             1002945                5                        4   \n",
       "2             1015425                3                        1   \n",
       "3             1016277                6                        8   \n",
       "4             1017023                4                        1   \n",
       "\n",
       "   Uniformity of Cell Shape  Marginal Adhesion  Single Epithelial Cell Size  \\\n",
       "0                         1                  1                            2   \n",
       "1                         4                  5                            7   \n",
       "2                         1                  1                            2   \n",
       "3                         8                  1                            3   \n",
       "4                         1                  3                            2   \n",
       "\n",
       "  Bare Nuclei  Bland Chromatin  Normal Nucleoli  Mitoses  Class  \n",
       "0           1                3                1        1      2  \n",
       "1          10                3                2        1      2  \n",
       "2           2                3                1        1      2  \n",
       "3           4                3                7        1      2  \n",
       "4           1                3                1        1      2  "
      ]
     },
     "execution_count": 2,
     "metadata": {},
     "output_type": "execute_result"
    }
   ],
   "source": [
    "# Read the data and create a pandas DataFrame\n",
    "\n",
    "pd_data = pd.read_csv(\"breast-cancer-wisconsin.data\",names = ['Sample code number','Clump Thickness','Uniformity of Cell Size','Uniformity of Cell Shape',\n",
    "                                                             'Marginal Adhesion','Single Epithelial Cell Size','Bare Nuclei','Bland Chromatin','Normal Nucleoli',\n",
    "                                                             'Mitoses','Class'])\n",
    "\n",
    "# Visualize the first rows of the DataFrame\n",
    "pd_data.head()"
   ]
  },
  {
   "cell_type": "code",
   "execution_count": 3,
   "id": "e7a5a9ff",
   "metadata": {},
   "outputs": [
    {
     "data": {
      "text/plain": [
       "(699, 11)"
      ]
     },
     "execution_count": 3,
     "metadata": {},
     "output_type": "execute_result"
    }
   ],
   "source": [
    "# Inspect the dimension of the DataFrame\n",
    "pd_data.shape"
   ]
  },
  {
   "cell_type": "code",
   "execution_count": 4,
   "id": "225803b4",
   "metadata": {},
   "outputs": [
    {
     "data": {
      "text/plain": [
       "Sample code number              int64\n",
       "Clump Thickness                 int64\n",
       "Uniformity of Cell Size         int64\n",
       "Uniformity of Cell Shape        int64\n",
       "Marginal Adhesion               int64\n",
       "Single Epithelial Cell Size     int64\n",
       "Bare Nuclei                    object\n",
       "Bland Chromatin                 int64\n",
       "Normal Nucleoli                 int64\n",
       "Mitoses                         int64\n",
       "Class                           int64\n",
       "dtype: object"
      ]
     },
     "execution_count": 4,
     "metadata": {},
     "output_type": "execute_result"
    }
   ],
   "source": [
    "# Inspect the data type of the different columns of the DataFrame\n",
    "pd_data.dtypes"
   ]
  },
  {
   "cell_type": "code",
   "execution_count": 5,
   "id": "579d2d5a",
   "metadata": {},
   "outputs": [
    {
     "data": {
      "text/plain": [
       "array(['1', '10', '2', '3', '4', '5', '6', '7', '8', '9', '?'],\n",
       "      dtype=object)"
      ]
     },
     "execution_count": 5,
     "metadata": {},
     "output_type": "execute_result"
    }
   ],
   "source": [
    "# Bare Nuclei variable is of type object even if it is expected to be numeric: this suggests the presence of missing \n",
    "# values for this variable\n",
    "\n",
    "np.unique(pd_data['Bare Nuclei'].values)\n",
    "\n",
    "# as expected there are some missing values identified by '?'"
   ]
  },
  {
   "cell_type": "code",
   "execution_count": 6,
   "id": "f0e395ab",
   "metadata": {},
   "outputs": [
    {
     "data": {
      "text/plain": [
       "16"
      ]
     },
     "execution_count": 6,
     "metadata": {},
     "output_type": "execute_result"
    }
   ],
   "source": [
    "# Count how many missing values there are\n",
    "(pd_data['Bare Nuclei']== '?').sum()\n",
    "\n",
    "# Since they are 16 among 699 overall observations we can remove them"
   ]
  },
  {
   "cell_type": "code",
   "execution_count": 7,
   "id": "50e04337",
   "metadata": {},
   "outputs": [
    {
     "data": {
      "text/plain": [
       "(683, 11)"
      ]
     },
     "execution_count": 7,
     "metadata": {},
     "output_type": "execute_result"
    }
   ],
   "source": [
    "# Remove the missing values\n",
    "pd_data = pd_data.replace('?',np.nan).dropna()\n",
    "\n",
    "pd_data.shape"
   ]
  },
  {
   "cell_type": "code",
   "execution_count": 8,
   "id": "2f7497d3",
   "metadata": {},
   "outputs": [],
   "source": [
    "# Cast Bare Nuclei variable in integer type\n",
    "pd_data['Bare Nuclei'] = pd_data['Bare Nuclei'].astype('int64')"
   ]
  },
  {
   "cell_type": "code",
   "execution_count": 9,
   "id": "68da46ff",
   "metadata": {},
   "outputs": [
    {
     "name": "stdout",
     "output_type": "stream",
     "text": [
      "[2 4]\n"
     ]
    }
   ],
   "source": [
    "# Control which values are present in variable Class\n",
    "print(np.unique(pd_data['Class']))\n",
    "# 2 is used for benign class, 4 for malignant\n",
    "\n",
    "# Replace 2 with 0 and 4 with 1\n",
    "pd_data['Class'] = pd_data['Class'].replace({2: 0, 4:1})"
   ]
  },
  {
   "cell_type": "code",
   "execution_count": 10,
   "id": "f9c21681",
   "metadata": {},
   "outputs": [],
   "source": [
    "# Since the identification code of each sample is not a variable that can be used to build a classification model we \n",
    "# can drop it\n",
    "pd_data = pd_data.drop(['Sample code number'],axis=1)"
   ]
  },
  {
   "cell_type": "code",
   "execution_count": 11,
   "id": "106d7183",
   "metadata": {},
   "outputs": [
    {
     "data": {
      "text/plain": [
       "0    65.007321\n",
       "1    34.992679\n",
       "Name: Class, dtype: float64"
      ]
     },
     "execution_count": 11,
     "metadata": {},
     "output_type": "execute_result"
    }
   ],
   "source": [
    "# Inspect the proportion of observations of each class\n",
    "pd_data['Class'].value_counts()/pd_data.shape[0]*100"
   ]
  },
  {
   "cell_type": "markdown",
   "id": "6d5e2579",
   "metadata": {},
   "source": [
    "Since the dataset is quite unbalanced, with 65% of observations of class 0 and 35% of class 1, when I will perform the splitting of the dataset into the train and test set, as well as the splitting of the train set in k-folds during cross validation, I have to pay attention that this proportion between the data of the two classes is always respected."
   ]
  },
  {
   "cell_type": "markdown",
   "id": "5b9fc414",
   "metadata": {},
   "source": [
    "# Data visualization"
   ]
  },
  {
   "cell_type": "markdown",
   "id": "1b70efa6",
   "metadata": {},
   "source": [
    "## Inspect variable distribution through histogram"
   ]
  },
  {
   "cell_type": "code",
   "execution_count": 12,
   "id": "7491de06",
   "metadata": {},
   "outputs": [
    {
     "data": {
      "image/png": "[encoded data removed]",
      "text/plain": [
       "<Figure size 1080x720 with 12 Axes>"
      ]
     },
     "metadata": {
      "needs_background": "light"
     },
     "output_type": "display_data"
    }
   ],
   "source": [
    "pd_data.hist(bins=50, figsize=(15,10), ec='w')\n",
    "plt.show()"
   ]
  },
  {
   "cell_type": "markdown",
   "id": "ce1fb611",
   "metadata": {},
   "source": [
    "We can see that, except for Clump Thickness and Bland Chromatin variables, all the observations have very frequently value 1 for more or less all the variables.\n",
    "Bland Chromatin values are more concentrated around 1-3, while Clump Thickness is the only variable that shows also higher values with a more significative frequency."
   ]
  },
  {
   "cell_type": "markdown",
   "id": "b5d57139",
   "metadata": {},
   "source": [
    "## Scatterplot"
   ]
  },
  {
   "cell_type": "code",
   "execution_count": 13,
   "id": "2195f3c3",
   "metadata": {},
   "outputs": [
    {
     "data": {
      "text/plain": [
       "<seaborn.axisgrid.PairGrid at 0x7fb820dbd220>"
      ]
     },
     "execution_count": 13,
     "metadata": {},
     "output_type": "execute_result"
    },
    {
     "data": {
      "image/png": "[encoded data removed]",
      "text/plain": [
       "<Figure size 1662.38x180 with 9 Axes>"
      ]
     },
     "metadata": {
      "needs_background": "light"
     },
     "output_type": "display_data"
    }
   ],
   "source": [
    "sns.pairplot(pd_data, x_vars = pd_data.columns.to_list().remove('Class'), y_vars=['Class'], hue = 'Class', height=2.5)"
   ]
  },
  {
   "cell_type": "markdown",
   "id": "b255972f",
   "metadata": {},
   "source": [
    "From the scatterplot is clearly visible that malignant samples show all the possible values, between 1 and 10, of all the variables; instead benignant samples in the majority of cases have lower values of the features. \n",
    "Since this behaviour is present actually for all the variables, I expect all of them to be useful for the classification task."
   ]
  },
  {
   "cell_type": "markdown",
   "id": "f7d6e7ae",
   "metadata": {},
   "source": [
    "## Correlation matrix"
   ]
  },
  {
   "cell_type": "code",
   "execution_count": 14,
   "id": "0a4d191c",
   "metadata": {},
   "outputs": [
    {
     "data": {
      "text/plain": [
       "<AxesSubplot:>"
      ]
     },
     "execution_count": 14,
     "metadata": {},
     "output_type": "execute_result"
    },
    {
     "data": {
      "image/png": "[encoded data removed]",
      "text/plain": [
       "<Figure size 432x288 with 2 Axes>"
      ]
     },
     "metadata": {
      "needs_background": "light"
     },
     "output_type": "display_data"
    }
   ],
   "source": [
    "import seaborn as sns\n",
    "import matplotlib.pyplot as plt\n",
    "\n",
    "sns.heatmap((pd_data).corr(), annot = True)"
   ]
  },
  {
   "cell_type": "markdown",
   "id": "c306dd6c",
   "metadata": {},
   "source": [
    "The target variable seems to be highly correlated with Uniformity of cell size and shape, Bare Nuclei and Bland Chromatin. Anyway it shows a high correlation with all the features since the lowest correlation value that is reported is 0.4 and only Mitoses has a so low correlation with the target variable, while all the other features show a correlation of at least 0.69 with the Class label.\n",
    "\n",
    "Furthermore I can observe that the different features tend to be highly correlated between each other: this is expected since these variables represent biological characteristics all regarding the breast cells and the microenviroment in which they are. "
   ]
  },
  {
   "cell_type": "markdown",
   "id": "baaa9835",
   "metadata": {},
   "source": [
    "# Classifier evaluation strategy\n",
    "\n",
    "In the next session I will train different classifiers to then evaluate which is the best one in predicting the label of my data.\n",
    "To evaluate them and to look for the parameters that some of the classification models require I use as evaluation metric the sensitivity.\n",
    "\n",
    "The sensitivity or recall is the true positive rate, so the proportion of malignant observations that are actually classified as so. This is the ratio between the correctly positive predictions and the total number of positive observations in the dataset (even if some of them may have been wrongly classified as negative by the model).\n",
    "\n",
    "I choose this metric since in the medical field it is important to consider that the false positive rate and false negative rate have different weight: it is better to have a high false positive rate, diagnosing a person as ill even if he isn't, than having a high false negative rate with the risk of evaluating a person as healthy when he is actually ill. Since the sensitivity is the proportion of true positive classifications among the total number of observations that are trully positive (even if maybe they have been classified as negative), I used this evaluation metric as the main one to select the best model: the higher is the sensitivity the lowest is the false negative rate."
   ]
  },
  {
   "cell_type": "markdown",
   "id": "a5d79923",
   "metadata": {},
   "source": [
    "# Classification with Logistic Regression\n",
    "\n",
    "Logistic Regression is a linear classifier in the sense that the log odds (logit) is a linear combination of the covariates X"
   ]
  },
  {
   "cell_type": "code",
   "execution_count": 15,
   "id": "bfe0895a",
   "metadata": {},
   "outputs": [],
   "source": [
    "y = pd_data['Class'].to_numpy()\n",
    "X = pd_data.drop(['Class'],axis=1)\n",
    "\n",
    "# Split the data into training and test. Since the dataset is made of a lot of observations we can use 30% of them \n",
    "# as test set\n",
    "split_seed = 42\n",
    "split_test_size = 0.3\n",
    "\n",
    "# We have seen that the dataset is unbalanced so I pass as stratify parameter of the train_test_split function\n",
    "# the array of values of the Class variable of the dataset so that the splitting is performed randomly but ensuring \n",
    "# that the proportion of observations of the two classes in the train and the test set remains the same as in the \n",
    "# total dataset\n",
    "from sklearn.model_selection import train_test_split\n",
    "X_train, X_test, y_train, y_test = train_test_split(X, y,\n",
    "                                                    test_size=split_test_size, \n",
    "                                                    random_state=split_seed,\n",
    "                                                    stratify = y)"
   ]
  },
  {
   "cell_type": "code",
   "execution_count": 16,
   "id": "83c62b60",
   "metadata": {},
   "outputs": [
    {
     "data": {
      "text/plain": [
       "LogisticRegression(penalty='none', solver='newton-cg')"
      ]
     },
     "execution_count": 16,
     "metadata": {},
     "output_type": "execute_result"
    }
   ],
   "source": [
    "# Build and train the Logistic Regression model: we want to model the probability of being a malignant sample\n",
    "# given the values of all the covariates. \n",
    "# The Logistic function returns a probability, and so a value between 0 and 1.\n",
    "\n",
    "from sklearn.linear_model import LogisticRegression    \n",
    "\n",
    "# Use a particular solver of the maximum likelihood function\n",
    "model = LogisticRegression(solver=\"newton-cg\", penalty='none')  \n",
    "model.fit(X_train, y_train)  "
   ]
  },
  {
   "cell_type": "code",
   "execution_count": 17,
   "id": "a4418c15",
   "metadata": {},
   "outputs": [
    {
     "name": "stdout",
     "output_type": "stream",
     "text": [
      "Train sensitivity: 0.9640718562874252\n",
      "Test sensitivity: 0.9444444444444444\n"
     ]
    }
   ],
   "source": [
    "from sklearn.metrics import recall_score\n",
    "\n",
    "print(\"Train sensitivity:\", recall_score(y_train, model.predict(X_train)))\n",
    "print(\"Test sensitivity:\", recall_score(y_test, model.predict(X_test)))"
   ]
  },
  {
   "cell_type": "markdown",
   "id": "9209b828",
   "metadata": {},
   "source": [
    "The sensitivity of the Logistic regressor on never seen data is quite high, of the 94.4%.\n",
    "Anyway, since we don't know if the observations of the two different classes are linearly separable, and so if Logistic Regression is the best way to classify our data, it makes no sense to find the best features selecting them through the evaluation of the performance of a classifier that is based on an assumption that our data may not satisfy."
   ]
  },
  {
   "cell_type": "markdown",
   "id": "95f0253f",
   "metadata": {},
   "source": [
    "## Coefficients interpretation\n",
    "\n",
    "Differently from linear regression the parameters don't directly act on the model output (that in this case is the probability) but on the log-odds: in fact the meaning of the coefficient of a variable is that the exponential of the coefficient is the increase of the odds ratio as consequence of a unitary increase of the variable, when all the other features remain constant."
   ]
  },
  {
   "cell_type": "code",
   "execution_count": 18,
   "id": "d3c18f53",
   "metadata": {},
   "outputs": [
    {
     "name": "stdout",
     "output_type": "stream",
     "text": [
      "The unitary inrease of Bare Nulcei value increases the log odds by: 0.5197621491610662\n",
      "Which means increasing the odds by: 1.681627625586217\n"
     ]
    }
   ],
   "source": [
    "beta_bare_nuclei = model.coef_[0,0]\n",
    "print(\"The unitary inrease of Bare Nulcei value increases the log odds by:\", beta_bare_nuclei)\n",
    "print(\"Which means increasing the odds by:\", np.exp(beta_bare_nuclei))"
   ]
  },
  {
   "cell_type": "markdown",
   "id": "ed900f02",
   "metadata": {},
   "source": [
    "The interpretation is that an unitary increase of the number of Bare Nuclei in the patient increses the risk of being malignant of the 68%."
   ]
  },
  {
   "cell_type": "markdown",
   "id": "b3f46a15",
   "metadata": {},
   "source": [
    "# Model evaluation\n",
    "\n",
    "The confusion matrix reports how many observations, both negative and positive, have been correctly classified by the model.\n",
    "The matrix also contains the numbers of wrongly predicted observations: the number of false negatives and false positives."
   ]
  },
  {
   "cell_type": "code",
   "execution_count": 19,
   "id": "7bd899f7",
   "metadata": {},
   "outputs": [
    {
     "data": {
      "image/png": "[encoded data removed]",
      "text/plain": [
       "<Figure size 432x288 with 2 Axes>"
      ]
     },
     "metadata": {
      "needs_background": "light"
     },
     "output_type": "display_data"
    },
    {
     "data": {
      "image/png": "[encoded data removed]",
      "text/plain": [
       "<Figure size 432x288 with 2 Axes>"
      ]
     },
     "metadata": {
      "needs_background": "light"
     },
     "output_type": "display_data"
    }
   ],
   "source": [
    "from sklearn.metrics import confusion_matrix\n",
    "from sklearn.metrics import confusion_matrix, ConfusionMatrixDisplay\n",
    "\n",
    "model = LogisticRegression(solver=\"newton-cg\", penalty='none')  \n",
    "model.fit(X_train, y_train)  \n",
    "\n",
    "cm = confusion_matrix(y_test,model.predict(X_test))\n",
    "cm2 = confusion_matrix(y_train,model.predict(X_train))\n",
    "\n",
    "# Plot test confution matrix\n",
    "disp = ConfusionMatrixDisplay(cm)\n",
    "disp.plot()\n",
    "plt.show()\n",
    "# Plot train confution matrix\n",
    "disp2 = ConfusionMatrixDisplay(cm2)\n",
    "disp2.plot()\n",
    "plt.show()"
   ]
  },
  {
   "cell_type": "code",
   "execution_count": 20,
   "id": "aededd63",
   "metadata": {},
   "outputs": [
    {
     "name": "stdout",
     "output_type": "stream",
     "text": [
      "Test accuracy  0.9560975609756097\n",
      "Specificity  0.9624060150375939\n",
      "Precision  0.9315068493150684\n",
      "F1-score 0.9379310344827586\n"
     ]
    }
   ],
   "source": [
    "def accuracy(y_pred, y_true):\n",
    "    return (y_pred == y_true).mean()\n",
    "\n",
    "def sensitivity(cm):\n",
    "    TP = cm[1,1]\n",
    "    T = cm[1,:].sum()\n",
    "    return TP / T\n",
    "\n",
    "def specificity(cm):\n",
    "    TN = cm[0,0]\n",
    "    N = cm[0,:].sum()\n",
    "    return TN / N\n",
    "\n",
    "def precision(cm):\n",
    "    TP = cm[1,1]\n",
    "    TPFP = cm[:,1].sum()\n",
    "    return TP / TPFP\n",
    "\n",
    "def f1(cm):\n",
    "    p = precision(cm)\n",
    "    r = sensitivity(cm)\n",
    "    return (2 * p * r) / (p + r)\n",
    "\n",
    "print(\"Test accuracy \", accuracy(y_test, model.predict(X_test)))\n",
    "print(\"Specificity \", specificity(cm))\n",
    "print(\"Precision \", precision(cm))\n",
    "print(\"F1-score\", f1(cm))"
   ]
  },
  {
   "cell_type": "markdown",
   "id": "86f18fbf",
   "metadata": {},
   "source": [
    "The accuracy is a measure of how many times on average the model is able to classify the samples in the right way.\n",
    "\n",
    "The specificity is the true negative rate, so the proportion of benignant observations that are actually classified as so. This is the ratio between the correctly negative predictions and the total number of negative observations in the dataset (even if some of them may have been wrongly classified as positive by the model).\n",
    "\n",
    "The precision is the number of true positive prediction among all those have being predicted as positive (even if maybe they are negative).\n",
    "\n",
    "F1 score is the most accurate and precise evaluation metric.\n",
    "\n",
    "All the metrics are computed on the test set.\n",
    "\n",
    "Another important evaluation can be done using the ROC curve in which the false positive rate is plotted on the x-axis while the true positive rate on the y-axis: the best model is the one that maximises the TPR and minimizes the FPR and so the closer to 1 is the area under the ROC curve the better the model is."
   ]
  },
  {
   "cell_type": "code",
   "execution_count": 21,
   "id": "f5d369b2",
   "metadata": {},
   "outputs": [
    {
     "name": "stdout",
     "output_type": "stream",
     "text": [
      "AUC train: 0.9979205575986292\n",
      "AUC test: 0.9909147869674186\n"
     ]
    },
    {
     "data": {
      "image/png": "[encoded data removed]",
      "text/plain": [
       "<Figure size 432x288 with 1 Axes>"
      ]
     },
     "metadata": {
      "needs_background": "light"
     },
     "output_type": "display_data"
    }
   ],
   "source": [
    "from sklearn.metrics import roc_curve\n",
    "from sklearn.metrics import roc_auc_score\n",
    "\n",
    "def plot_roc(predict_fn, X, y, label=None):\n",
    "    fprs, tprs, t = roc_curve(y, predict_fn(X)[:,-1])\n",
    "    \n",
    "    # Plot the ROC\n",
    "    plt.plot(fprs, tprs, label=\"ROC \"+label)\n",
    "    plt.xlabel(\"FPR = 1 - specificity\")\n",
    "    plt.ylabel(\"TPR = sensitivity\")\n",
    "    plt.legend()\n",
    "    \n",
    "plot_roc(model.predict_proba, X_test, y_test, \"Logistic Regression Test\")\n",
    "plot_roc(model.predict_proba, X_train, y_train, \"Logistic Regression Train\")\n",
    "\n",
    "print(f'AUC train: {roc_auc_score(y_train, model.predict_proba(X_train)[:, 1])}')\n",
    "print(f'AUC test: {roc_auc_score(y_test, model.predict_proba(X_test)[:, 1])}')"
   ]
  },
  {
   "cell_type": "markdown",
   "id": "3c09a9a3",
   "metadata": {},
   "source": [
    "The ROC curve is built changing the threshold value, used to assign an observation to a class depending on the probability of belonging to Class=1 returned by the Logistic model, and counting the corresponding true positive rate and false positive rate. When the threshold is low, everything is classified as belonging to class 1, so you have a high false positive rate and a high true positive rate (this is the point in the right top corner), increasing the threshold the false positive rate decreases as well as the true positive one until you reach the bottom left corner. The best balance is in the left top corner with high true positive rate and low false positive rate."
   ]
  },
  {
   "cell_type": "markdown",
   "id": "e7e314e9",
   "metadata": {},
   "source": [
    "# Classification with Linear Disciminant Analysis \n",
    "\n",
    "As Logistic Regression, also LDA models the posterior probabilities as a linear function of the covariates. However, the relation is found through the Bayes Theorem instead of the Logistic function.\n",
    "\n",
    "In this case we know the a priori probability of being malignant and we work with a priori probability and the distribution of features to build a model that classifies the samples.\n",
    "\n",
    "The assumptions of LDA are that the classes must have a common covariance matrix and that the distribution of features in each class must be multivariate Gaussian.\n",
    "Even LDA is a linear classifier meaning that the log odds is linear with respect to the covariates X."
   ]
  },
  {
   "cell_type": "code",
   "execution_count": 22,
   "id": "18cf98e5",
   "metadata": {},
   "outputs": [
    {
     "name": "stdout",
     "output_type": "stream",
     "text": [
      "Train sensitivity: 0.9341317365269461\n",
      "Test sensitivity: 0.8888888888888888\n"
     ]
    }
   ],
   "source": [
    "# As before, first I build the LDA model, then I fit it on the train set and evaluate the fitted model on the train \n",
    "# and test sets\n",
    "\n",
    "from sklearn.discriminant_analysis import LinearDiscriminantAnalysis as LDA\n",
    "model = LDA(store_covariance=True)\n",
    "model = model.fit(X_train, y_train)\n",
    "\n",
    "print(\"Train sensitivity:\", recall_score(y_train, model.predict(X_train)))\n",
    "print(\"Test sensitivity:\", recall_score(y_test, model.predict(X_test)))"
   ]
  },
  {
   "cell_type": "markdown",
   "id": "244a84be",
   "metadata": {},
   "source": [
    "The sensitivity of LDA is quite low, of 88.9%, so I try to apply the polynomial trasformation to the data to see if in this way the performance of LDA improves."
   ]
  },
  {
   "cell_type": "markdown",
   "id": "045a9210",
   "metadata": {},
   "source": [
    "## LDA with polynomial features\n",
    "\n",
    "We can convert features into polynomial ones and then fit the LDA model in the new feature space: in this space the decision boundary is linear, but it looks polynomial if projected back into the original input space. \n",
    "\n",
    "We can use GridSearch plus cross validation to find the best degree."
   ]
  },
  {
   "cell_type": "code",
   "execution_count": 23,
   "id": "3d476d91",
   "metadata": {},
   "outputs": [
    {
     "data": {
      "text/plain": [
       "GridSearchCV(cv=10,\n",
       "             estimator=Pipeline(steps=[('poly', PolynomialFeatures()),\n",
       "                                       ('lda',\n",
       "                                        LinearDiscriminantAnalysis(store_covariance=True))]),\n",
       "             param_grid={'poly__degree': range(1, 6)},\n",
       "             scoring=make_scorer(recall_score))"
      ]
     },
     "execution_count": 23,
     "metadata": {},
     "output_type": "execute_result"
    }
   ],
   "source": [
    "from sklearn.model_selection import GridSearchCV\n",
    "from sklearn.metrics import make_scorer\n",
    "from sklearn.pipeline import Pipeline\n",
    "from sklearn.preprocessing import PolynomialFeatures\n",
    "\n",
    "model = Pipeline([('poly', PolynomialFeatures()),\n",
    "                  ('lda', LDA(store_covariance=True))])\n",
    "params = {'poly__degree': range(1, 6)}\n",
    "cv = GridSearchCV(model, params, refit=True, cv=10, \n",
    "                  scoring=make_scorer(recall_score))\n",
    "cv.fit(X_train, y_train)"
   ]
  },
  {
   "cell_type": "code",
   "execution_count": 24,
   "id": "94ca2492",
   "metadata": {},
   "outputs": [
    {
     "data": {
      "text/html": [
       "<div>\n",
       "<style scoped>\n",
       "    .dataframe tbody tr th:only-of-type {\n",
       "        vertical-align: middle;\n",
       "    }\n",
       "\n",
       "    .dataframe tbody tr th {\n",
       "        vertical-align: top;\n",
       "    }\n",
       "\n",
       "    .dataframe thead th {\n",
       "        text-align: right;\n",
       "    }\n",
       "</style>\n",
       "<table border=\"1\" class=\"dataframe\">\n",
       "  <thead>\n",
       "    <tr style=\"text-align: right;\">\n",
       "      <th></th>\n",
       "      <th>mean_fit_time</th>\n",
       "      <th>std_fit_time</th>\n",
       "      <th>mean_score_time</th>\n",
       "      <th>std_score_time</th>\n",
       "      <th>param_poly__degree</th>\n",
       "      <th>params</th>\n",
       "      <th>split0_test_score</th>\n",
       "      <th>split1_test_score</th>\n",
       "      <th>split2_test_score</th>\n",
       "      <th>split3_test_score</th>\n",
       "      <th>split4_test_score</th>\n",
       "      <th>split5_test_score</th>\n",
       "      <th>split6_test_score</th>\n",
       "      <th>split7_test_score</th>\n",
       "      <th>split8_test_score</th>\n",
       "      <th>split9_test_score</th>\n",
       "      <th>mean_test_score</th>\n",
       "      <th>std_test_score</th>\n",
       "      <th>rank_test_score</th>\n",
       "    </tr>\n",
       "  </thead>\n",
       "  <tbody>\n",
       "    <tr>\n",
       "      <th>0</th>\n",
       "      <td>0.002712</td>\n",
       "      <td>0.000318</td>\n",
       "      <td>0.001195</td>\n",
       "      <td>0.000102</td>\n",
       "      <td>1</td>\n",
       "      <td>{'poly__degree': 1}</td>\n",
       "      <td>0.9375</td>\n",
       "      <td>0.882353</td>\n",
       "      <td>0.823529</td>\n",
       "      <td>1.000000</td>\n",
       "      <td>0.882353</td>\n",
       "      <td>0.941176</td>\n",
       "      <td>0.941176</td>\n",
       "      <td>0.941176</td>\n",
       "      <td>1.0000</td>\n",
       "      <td>0.8750</td>\n",
       "      <td>0.922426</td>\n",
       "      <td>0.053441</td>\n",
       "      <td>2</td>\n",
       "    </tr>\n",
       "    <tr>\n",
       "      <th>1</th>\n",
       "      <td>0.005673</td>\n",
       "      <td>0.001704</td>\n",
       "      <td>0.001355</td>\n",
       "      <td>0.000284</td>\n",
       "      <td>2</td>\n",
       "      <td>{'poly__degree': 2}</td>\n",
       "      <td>0.9375</td>\n",
       "      <td>0.882353</td>\n",
       "      <td>0.882353</td>\n",
       "      <td>1.000000</td>\n",
       "      <td>0.941176</td>\n",
       "      <td>0.941176</td>\n",
       "      <td>0.882353</td>\n",
       "      <td>0.941176</td>\n",
       "      <td>1.0000</td>\n",
       "      <td>0.8750</td>\n",
       "      <td>0.928309</td>\n",
       "      <td>0.044764</td>\n",
       "      <td>1</td>\n",
       "    </tr>\n",
       "    <tr>\n",
       "      <th>2</th>\n",
       "      <td>0.021224</td>\n",
       "      <td>0.002225</td>\n",
       "      <td>0.001716</td>\n",
       "      <td>0.000448</td>\n",
       "      <td>3</td>\n",
       "      <td>{'poly__degree': 3}</td>\n",
       "      <td>0.6875</td>\n",
       "      <td>0.411765</td>\n",
       "      <td>0.470588</td>\n",
       "      <td>0.647059</td>\n",
       "      <td>0.588235</td>\n",
       "      <td>0.705882</td>\n",
       "      <td>0.764706</td>\n",
       "      <td>0.529412</td>\n",
       "      <td>0.6875</td>\n",
       "      <td>0.5625</td>\n",
       "      <td>0.605515</td>\n",
       "      <td>0.106897</td>\n",
       "      <td>4</td>\n",
       "    </tr>\n",
       "    <tr>\n",
       "      <th>3</th>\n",
       "      <td>0.092166</td>\n",
       "      <td>0.024903</td>\n",
       "      <td>0.002127</td>\n",
       "      <td>0.000790</td>\n",
       "      <td>4</td>\n",
       "      <td>{'poly__degree': 4}</td>\n",
       "      <td>0.6875</td>\n",
       "      <td>0.647059</td>\n",
       "      <td>0.705882</td>\n",
       "      <td>0.588235</td>\n",
       "      <td>0.588235</td>\n",
       "      <td>0.529412</td>\n",
       "      <td>0.647059</td>\n",
       "      <td>0.764706</td>\n",
       "      <td>0.6875</td>\n",
       "      <td>0.6250</td>\n",
       "      <td>0.647059</td>\n",
       "      <td>0.064668</td>\n",
       "      <td>3</td>\n",
       "    </tr>\n",
       "    <tr>\n",
       "      <th>4</th>\n",
       "      <td>0.231555</td>\n",
       "      <td>0.028037</td>\n",
       "      <td>0.001873</td>\n",
       "      <td>0.000108</td>\n",
       "      <td>5</td>\n",
       "      <td>{'poly__degree': 5}</td>\n",
       "      <td>0.2500</td>\n",
       "      <td>0.588235</td>\n",
       "      <td>0.764706</td>\n",
       "      <td>0.529412</td>\n",
       "      <td>0.588235</td>\n",
       "      <td>0.529412</td>\n",
       "      <td>0.764706</td>\n",
       "      <td>0.647059</td>\n",
       "      <td>0.6250</td>\n",
       "      <td>0.6250</td>\n",
       "      <td>0.591176</td>\n",
       "      <td>0.137726</td>\n",
       "      <td>5</td>\n",
       "    </tr>\n",
       "  </tbody>\n",
       "</table>\n",
       "</div>"
      ],
      "text/plain": [
       "   mean_fit_time  std_fit_time  mean_score_time  std_score_time  \\\n",
       "0       0.002712      0.000318         0.001195        0.000102   \n",
       "1       0.005673      0.001704         0.001355        0.000284   \n",
       "2       0.021224      0.002225         0.001716        0.000448   \n",
       "3       0.092166      0.024903         0.002127        0.000790   \n",
       "4       0.231555      0.028037         0.001873        0.000108   \n",
       "\n",
       "  param_poly__degree               params  split0_test_score  \\\n",
       "0                  1  {'poly__degree': 1}             0.9375   \n",
       "1                  2  {'poly__degree': 2}             0.9375   \n",
       "2                  3  {'poly__degree': 3}             0.6875   \n",
       "3                  4  {'poly__degree': 4}             0.6875   \n",
       "4                  5  {'poly__degree': 5}             0.2500   \n",
       "\n",
       "   split1_test_score  split2_test_score  split3_test_score  split4_test_score  \\\n",
       "0           0.882353           0.823529           1.000000           0.882353   \n",
       "1           0.882353           0.882353           1.000000           0.941176   \n",
       "2           0.411765           0.470588           0.647059           0.588235   \n",
       "3           0.647059           0.705882           0.588235           0.588235   \n",
       "4           0.588235           0.764706           0.529412           0.588235   \n",
       "\n",
       "   split5_test_score  split6_test_score  split7_test_score  split8_test_score  \\\n",
       "0           0.941176           0.941176           0.941176             1.0000   \n",
       "1           0.941176           0.882353           0.941176             1.0000   \n",
       "2           0.705882           0.764706           0.529412             0.6875   \n",
       "3           0.529412           0.647059           0.764706             0.6875   \n",
       "4           0.529412           0.764706           0.647059             0.6250   \n",
       "\n",
       "   split9_test_score  mean_test_score  std_test_score  rank_test_score  \n",
       "0             0.8750         0.922426        0.053441                2  \n",
       "1             0.8750         0.928309        0.044764                1  \n",
       "2             0.5625         0.605515        0.106897                4  \n",
       "3             0.6250         0.647059        0.064668                3  \n",
       "4             0.6250         0.591176        0.137726                5  "
      ]
     },
     "execution_count": 24,
     "metadata": {},
     "output_type": "execute_result"
    }
   ],
   "source": [
    "cv.best_params_\n",
    "cv.best_score_\n",
    "pd.DataFrame(cv.cv_results_)"
   ]
  },
  {
   "cell_type": "code",
   "execution_count": 25,
   "id": "89f5081f",
   "metadata": {},
   "outputs": [
    {
     "name": "stdout",
     "output_type": "stream",
     "text": [
      "  (best 2) CV sensitivity: 0.9283088235294118\n",
      "  (best 2) Test sensitivity: 0.9305555555555556\n"
     ]
    },
    {
     "data": {
      "image/png": "[encoded data removed]",
      "text/plain": [
       "<Figure size 432x288 with 1 Axes>"
      ]
     },
     "metadata": {
      "needs_background": "light"
     },
     "output_type": "display_data"
    }
   ],
   "source": [
    "def show_results(cv, X_test, params, prefix=''):\n",
    "    prefix = ' '+prefix    \n",
    "    results = pd.DataFrame(cv.cv_results_)\n",
    "    plt.plot(results[params], results['mean_test_score'], label=prefix)\n",
    "\n",
    "    best_idx = np.argmax(results['mean_test_score'])\n",
    "    plt.plot(results[params][best_idx],results['mean_test_score'][best_idx],marker='X')\n",
    "    plt.legend()\n",
    "\n",
    "    print(prefix, f\"(best {results[params][best_idx]}) CV sensitivity:\",  cv.best_score_)\n",
    "    print(prefix, f\"(best {results[params][best_idx]}) Test sensitivity:\", recall_score(y_test, cv.best_estimator_.predict(X_test)))\n",
    "    \n",
    "show_results(cv, X_test, 'param_poly__degree')"
   ]
  },
  {
   "cell_type": "markdown",
   "id": "a52c1d21",
   "metadata": {},
   "source": [
    "The best LDA model according to the sensitivity score is the one with degree 2: this suggests that the observations of the two classes are not linearly separable and for this reason a polynomial classifier performs better in detecting the malignant samples."
   ]
  },
  {
   "cell_type": "markdown",
   "id": "779d6370",
   "metadata": {},
   "source": [
    "## Model evaluation"
   ]
  },
  {
   "cell_type": "code",
   "execution_count": 26,
   "id": "d69fa486",
   "metadata": {},
   "outputs": [
    {
     "name": "stdout",
     "output_type": "stream",
     "text": [
      "Sensitivity 0.9305555555555556\n",
      "Specificity 0.9624060150375939\n",
      "Test accuracy: 0.9512195121951219\n",
      "Precision  0.9305555555555556\n",
      "F1-score 0.9305555555555556\n",
      "AUC train: 0.9988640083177697\n",
      "AUC test: 0.9886173767752715\n",
      "\n"
     ]
    },
    {
     "data": {
      "image/png": "[encoded data removed]",
      "text/plain": [
       "<Figure size 432x288 with 1 Axes>"
      ]
     },
     "metadata": {
      "needs_background": "light"
     },
     "output_type": "display_data"
    }
   ],
   "source": [
    "poly = PolynomialFeatures(degree=2, include_bias=False)\n",
    "poly = poly.fit(X_train)\n",
    "\n",
    "X_train_poly = poly.transform(X_train)\n",
    "X_test_poly = poly.transform(X_test)\n",
    " \n",
    "model = LDA(store_covariance=True)\n",
    "model = model.fit(X_train_poly, y_train)\n",
    "        \n",
    "cm = confusion_matrix(y_test, model.predict(X_test_poly))\n",
    "print(\"Sensitivity\", sensitivity(cm))\n",
    "print(\"Specificity\", specificity(cm))\n",
    "print(\"Test accuracy:\", accuracy(y_test, model.predict(X_test_poly)))\n",
    "print(\"Precision \", precision(cm))\n",
    "print(\"F1-score\", f1(cm))\n",
    "print(f'AUC train: {roc_auc_score(y_train, model.predict_proba(X_train_poly)[:, 1])}')\n",
    "print(f'AUC test: {roc_auc_score(y_test, model.predict_proba(X_test_poly)[:, 1])}\\n')\n",
    "\n",
    "plot_roc(model.predict_proba, X_test_poly, y_test, \"LDA Test\")\n",
    "plot_roc(model.predict_proba, X_train_poly, y_train, \"LDA Train\")"
   ]
  },
  {
   "cell_type": "markdown",
   "id": "941dfa35",
   "metadata": {},
   "source": [
    "# Classification with Quadratic Disciminant Analysis\n",
    "\n",
    "QDA derives from LDA model without the assumption that the density functions must have the same covariance matrix."
   ]
  },
  {
   "cell_type": "code",
   "execution_count": 27,
   "id": "ce7a3598",
   "metadata": {},
   "outputs": [
    {
     "name": "stdout",
     "output_type": "stream",
     "text": [
      "Train accuracy: 0.9581589958158996\n",
      "Test accuracy: 0.9560975609756097\n",
      "Sensitivity 0.9583333333333334\n",
      "Specificity 0.9548872180451128\n",
      "Precision  0.92\n",
      "F1-score 0.9387755102040817\n",
      "AUC train: 0.9948399021891907\n",
      "AUC test: 0.9852756892230576\n"
     ]
    },
    {
     "data": {
      "image/png": "[encoded data removed]",
      "text/plain": [
       "<Figure size 432x288 with 1 Axes>"
      ]
     },
     "metadata": {
      "needs_background": "light"
     },
     "output_type": "display_data"
    }
   ],
   "source": [
    "from sklearn.discriminant_analysis import QuadraticDiscriminantAnalysis as QDA\n",
    "model = QDA(store_covariance = True)\n",
    "model = model.fit(X_train, y_train)\n",
    "\n",
    "print(\"Train accuracy:\", accuracy(y_train, model.predict(X_train)))\n",
    "print(\"Test accuracy:\", accuracy(y_test, model.predict(X_test)))\n",
    "\n",
    "cm = confusion_matrix(y_test, model.predict(X_test))\n",
    "\n",
    "print(\"Sensitivity\", sensitivity(cm))\n",
    "print(\"Specificity\", specificity(cm))\n",
    "print(\"Precision \", precision(cm))\n",
    "print(\"F1-score\", f1(cm))\n",
    "print(f'AUC train: {roc_auc_score(y_train, model.predict_proba(X_train)[:, 1])}')\n",
    "print(f'AUC test: {roc_auc_score(y_test, model.predict_proba(X_test)[:, 1])}')\n",
    "\n",
    "plot_roc(model.predict_proba, X_test, y_test, \"QDA Test\")\n",
    "plot_roc(model.predict_proba, X_train, y_train, \"QDA Train\")"
   ]
  },
  {
   "cell_type": "markdown",
   "id": "00c76a6a",
   "metadata": {},
   "source": [
    "We can see that QDA performs better than the previous trained linear classifiers, and also the polynomial LDA, not only considering the sensitivity but also the test accuracy and the f1 score."
   ]
  },
  {
   "cell_type": "markdown",
   "id": "3ec7fe96",
   "metadata": {},
   "source": [
    "# Classification with K-Nearest Neighbors\n",
    "\n",
    "KNN is a non-parametric model: each time it has to predict the class of a new unseen observation it identifies its k closest training points and predicts as class of the new point the most frequent class among the selected neighbors.\n",
    "This is not a robust algorithm."
   ]
  },
  {
   "cell_type": "markdown",
   "id": "0b098e63",
   "metadata": {},
   "source": [
    "## KNN Hyperparameter Selection\n",
    "\n",
    "We use Grid search with cross validation to select the best k parameter for the dataset: we expect that a large value of k results in a smoother boundary, since the classification of the new observation is done considering the class of a lot of neighbors around it, while a small value of k leads to a more complex model, since in this case the decision boundary is not linear at all considering that only the very close k neighbors are taken in evaluation.\n",
    "\n",
    "Since KNN relies on sample distances to perform prediction, having normalized features on the same range allows samples to be compared more reliably. \n",
    "In fact, if one variable is on a higher scale than another one, the first variable will be valued more by the algorithm even if maybe it is actually not so important for the classification. This is why it may be useful to scale the variables.\n",
    "\n",
    "We can perform two different types of normalization: range normalization - which makes all the features have values between [0,1] - and z-score normalization - that makes features have 0 mean and unitary variance.\n",
    "\n",
    "I performed GridSearchCV not only to select the best k parameter but also to understand if the KNN model performs better on normalized or unnormalized features."
   ]
  },
  {
   "cell_type": "code",
   "execution_count": 28,
   "id": "3f4ed0aa",
   "metadata": {},
   "outputs": [
    {
     "data": {
      "text/plain": [
       "GridSearchCV(cv=10,\n",
       "             estimator=Pipeline(steps=[('norm', MinMaxScaler()),\n",
       "                                       ('knn', KNeighborsClassifier())]),\n",
       "             param_grid={'knn__n_neighbors': range(1, 20)},\n",
       "             scoring=make_scorer(recall_score))"
      ]
     },
     "execution_count": 28,
     "metadata": {},
     "output_type": "execute_result"
    }
   ],
   "source": [
    "from sklearn.neighbors import KNeighborsClassifier\n",
    "from sklearn.preprocessing import StandardScaler, MinMaxScaler\n",
    "\n",
    "model = KNeighborsClassifier()\n",
    "params = {'n_neighbors': range(1, 20)}\n",
    "cv = GridSearchCV(model, params, refit=True, cv = 10, \n",
    "                  scoring = make_scorer(recall_score))\n",
    "cv.fit(X_train, y_train)\n",
    "\n",
    "params = {'knn__n_neighbors': range(1, 20)}\n",
    "model_std = Pipeline([\n",
    "    ('norm', StandardScaler()),\n",
    "    ('knn', KNeighborsClassifier())])\n",
    "cv_std = GridSearchCV(model_std, params, refit=True, cv=10,\n",
    "                     scoring=make_scorer(recall_score))\n",
    "cv_std.fit(X_train, y_train)\n",
    "\n",
    "model_minmax = Pipeline([\n",
    "    ('norm', MinMaxScaler()),\n",
    "    ('knn', KNeighborsClassifier())])\n",
    "cv_minmax = GridSearchCV(model_minmax, params, refit=True, cv=10,\n",
    "                        scoring=make_scorer(recall_score))\n",
    "cv_minmax.fit(X_train, y_train)"
   ]
  },
  {
   "cell_type": "code",
   "execution_count": 29,
   "id": "fda887aa",
   "metadata": {},
   "outputs": [
    {
     "name": "stdout",
     "output_type": "stream",
     "text": [
      " Unnormalized (best 3) CV sensitivity: 0.9639705882352942\n",
      " Unnormalized (best 3) Test sensitivity: 0.9444444444444444\n",
      " StandardScaler (best 3) CV sensitivity: 0.9636029411764706\n",
      " StandardScaler (best 3) Test sensitivity: 0.9027777777777778\n",
      " MinMaxScaler (best 3) CV sensitivity: 0.9639705882352942\n",
      " MinMaxScaler (best 3) Test sensitivity: 0.9444444444444444\n"
     ]
    },
    {
     "data": {
      "image/png": "[encoded data removed]",
      "text/plain": [
       "<Figure size 432x288 with 1 Axes>"
      ]
     },
     "metadata": {
      "needs_background": "light"
     },
     "output_type": "display_data"
    }
   ],
   "source": [
    "def show_results(cv, X_test, params, prefix=''):\n",
    "    prefix = ' '+prefix    \n",
    "    results = pd.DataFrame(cv.cv_results_)\n",
    "    plt.plot(results[params], results['mean_test_score'], label=prefix)\n",
    "\n",
    "    best_idx = np.argmax(results['mean_test_score'])\n",
    "    plt.plot(results[params][best_idx],results['mean_test_score'][best_idx],marker='X')\n",
    "    plt.legend()\n",
    "\n",
    "    print(prefix, f\"(best {results[params][best_idx]}) CV sensitivity:\",  cv.best_score_)\n",
    "    print(prefix, f\"(best {results[params][best_idx]}) Test sensitivity:\", recall_score(y_test, cv.best_estimator_.predict(X_test)))\n",
    "    \n",
    "# Plot the cv lines\n",
    "show_results(cv, X_test, \"param_n_neighbors\", prefix=\"Unnormalized\")\n",
    "show_results(cv_std, X_test, 'param_knn__n_neighbors', \"StandardScaler\")\n",
    "show_results(cv_minmax, X_test, 'param_knn__n_neighbors', \"MinMaxScaler\")"
   ]
  },
  {
   "cell_type": "markdown",
   "id": "2bd2e25b",
   "metadata": {},
   "source": [
    "The obtained results show that the KNN model is able to perform in the same way, both considering the cross validation sensitivity and the test sensitivity, independently on the fact that the features have been normalized using the range normalization or they are unnormalized. On the other hand the performance of KNN is lower if trained on standard normalized features. Both in case of unnormalized features, with range normalized ones and with standard normalization the best performance is achived looking at the 3 closest training points.\n",
    "\n",
    "Being the best parameter k=3 means that the corresponding decision boundary is quite complex and not linear: this agrees with the results obtained until now.\n",
    "\n",
    "The fact that the performance of KNN is the same in case of normalized and unnormalized features, or even lower in the first case, is due to the fact that all the features are already in the same range between 1-10 and so the scaling of the variables is not useful."
   ]
  },
  {
   "cell_type": "markdown",
   "id": "5738c4ee",
   "metadata": {},
   "source": [
    "## Model evaluation"
   ]
  },
  {
   "cell_type": "code",
   "execution_count": 30,
   "id": "78af1191",
   "metadata": {},
   "outputs": [
    {
     "name": "stdout",
     "output_type": "stream",
     "text": [
      "Train accuracy: 0.9874476987447699\n",
      "Test accuracy: 0.9560975609756097\n",
      "Sensitivity 0.9444444444444444\n",
      "Specificity 0.9624060150375939\n",
      "Precision  0.9315068493150684\n",
      "F1-score 0.9379310344827586\n",
      "AUC train: 0.9993934959662668\n",
      "AUC test: 0.964703425229741\n",
      "\n"
     ]
    },
    {
     "data": {
      "image/png": "[encoded data removed]",
      "text/plain": [
       "<Figure size 432x288 with 1 Axes>"
      ]
     },
     "metadata": {
      "needs_background": "light"
     },
     "output_type": "display_data"
    }
   ],
   "source": [
    "model = KNeighborsClassifier(3)\n",
    "model = model.fit(X_train, y_train)\n",
    "\n",
    "print(\"Train accuracy:\", accuracy(y_train, model.predict(X_train)))\n",
    "print(\"Test accuracy:\", accuracy(y_test, model.predict(X_test)))\n",
    "\n",
    "cm = confusion_matrix(y_test, model.predict(X_test))\n",
    "print(\"Sensitivity\", sensitivity(cm))\n",
    "print(\"Specificity\", specificity(cm))\n",
    "print(\"Precision \", precision(cm))\n",
    "print(\"F1-score\", f1(cm))\n",
    "print(f'AUC train: {roc_auc_score(y_train, model.predict_proba(X_train)[:, 1])}')\n",
    "print(f'AUC test: {roc_auc_score(y_test, model.predict_proba(X_test)[:, 1])}\\n')\n",
    "\n",
    "plot_roc(model.predict_proba, X_test, y_test, \"KNN Test\")\n",
    "plot_roc(model.predict_proba, X_train, y_train, \"KNN Train\")"
   ]
  },
  {
   "cell_type": "markdown",
   "id": "32f477a4",
   "metadata": {},
   "source": [
    "# Classification with Support Vector Machine\n",
    "\n",
    "SVM classifier is the most robust algorithm meaning that the decision line is the farthest away from the training points that are the closest to it: this ensures that the algorithm is actually good in classifying whatever new data even in the case there is noise inside it.  \n",
    "\n",
    "The function to minimize in order to get the SVM boundary line is:\n",
    "$\\quad \\min _{\\mathbf{w}, w_{0}, \\xi}\\left\\{\\frac{1}{2}\\|\\mathbf{w}\\|^{2}+\\dfrac{1}{C} \\sum_{i=1}^{N} \\xi_{i}\\right\\}$\n",
    "\n",
    "The slack variable 𝜉𝑖 is the price paid each time a missclassification is done by the model (the slack variable has 0 value for correctly classified points, if a point is missclassified but within the margin it has a value major than 1 while a missclassified point above the margin has a slack value minor than 1). The lower the C parameter, the more important the slack variable is in the optimization function and so the more relaxed the margins are (and the larger the number of support vectors). The higher the C, the less important the slack variable is. \n",
    "In case we don't want any error we set C as infinite so that the slack variable doesn't count anymore: in this case we obtain very hard margins.\n",
    "\n",
    "The tooning of the C parameter is connected directly with the bias-variance trade-off: if C is high we force the boundary to be stick to the data (so high variance and low bias); if C is low we allow less strict boundary (so lower variance but higher bias).\n",
    "Grid search with cross validation can be used to find the best C parameter."
   ]
  },
  {
   "cell_type": "code",
   "execution_count": 31,
   "id": "fc2a7b8b",
   "metadata": {},
   "outputs": [
    {
     "data": {
      "text/plain": [
       "GridSearchCV(cv=5, estimator=SVC(kernel='linear'),\n",
       "             param_grid={'C': array([1.000000e-03, 2.500075e+01, 5.000050e+01, 7.500025e+01,\n",
       "       1.000000e+02])},\n",
       "             scoring='recall')"
      ]
     },
     "execution_count": 31,
     "metadata": {},
     "output_type": "execute_result"
    }
   ],
   "source": [
    "# We start training a linear SVM classifier\n",
    "from sklearn.svm import SVC\n",
    "\n",
    "# Define the set of C parameters to test\n",
    "param_grid = {'C': np.linspace(0.001, 100, 5)}\n",
    "# Build the linear SVM classifier\n",
    "svm_linear = GridSearchCV(SVC(kernel='linear'), param_grid,\n",
    "                        cv=5, scoring='recall', refit=True)\n",
    "svm_linear.fit(X_train, y_train)"
   ]
  },
  {
   "cell_type": "code",
   "execution_count": 32,
   "id": "70562d9c",
   "metadata": {},
   "outputs": [
    {
     "name": "stdout",
     "output_type": "stream",
     "text": [
      "SVC(C=25.00075, kernel='linear')\n",
      "cv score: 0.9582887700534759\n",
      "train score: 0.9700598802395209\n",
      "test score: 0.9583333333333334\n"
     ]
    }
   ],
   "source": [
    "from sklearn.metrics import accuracy_score\n",
    "\n",
    "cv_score = svm_linear.best_score_\n",
    "svm_linear = svm_linear.best_estimator_\n",
    "print(svm_linear)\n",
    "    \n",
    "train_rec = recall_score(y_train, svm_linear.predict(X_train))\n",
    "test_rec = recall_score(y_test, svm_linear.predict(X_test))\n",
    "print(\"cv score: {}\".format(cv_score))\n",
    "print(\"train score: {}\".format(train_rec))\n",
    "print(\"test score: {}\".format(test_rec))"
   ]
  },
  {
   "cell_type": "markdown",
   "id": "280eb3b9",
   "metadata": {},
   "source": [
    "From the Grid Search analysis the linear SVM model with the best cross validation sensitivity score is the one with the C parameter equal to 25."
   ]
  },
  {
   "cell_type": "markdown",
   "id": "44553a10",
   "metadata": {},
   "source": [
    "## Kernel Trick with SVM\n",
    "\n",
    "Since the observations of different classes are not always seperable in a linear way, and from the results obtained untill now this is very probable our case, the Kernel Trick consists of firstly applying a transformation on the features and then find the SVM boundary: consequently the boundary is linear in the new feature space but not linear in the original input feature space.\n",
    "\n",
    "There are different Kernel transformations that can be applied: to find the best one Grid search method with cross validation is used."
   ]
  },
  {
   "cell_type": "code",
   "execution_count": 33,
   "id": "76e23b6b",
   "metadata": {},
   "outputs": [
    {
     "data": {
      "text/plain": [
       "GridSearchCV(cv=5, estimator=SVC(kernel='sigmoid'),\n",
       "             param_grid={'C': array([1.000000e-03, 2.500075e+01, 5.000050e+01, 7.500025e+01,\n",
       "       1.000000e+02]),\n",
       "                         'coef0': array([-10.,  -5.,   0.,   5.,  10.]),\n",
       "                         'gamma': array([1.000000e-03, 2.500075e+01, 5.000050e+01, 7.500025e+01,\n",
       "       1.000000e+02])},\n",
       "             scoring='recall')"
      ]
     },
     "execution_count": 33,
     "metadata": {},
     "output_type": "execute_result"
    }
   ],
   "source": [
    "from sklearn.model_selection import GridSearchCV\n",
    "\n",
    "# use three different kernels (poly, rbf, sigmoid)\n",
    "\n",
    "# Polynomial\n",
    "param_grid = {'C': np.linspace(0.001, 10, 5),\n",
    "              'coef0': np.linspace(-10, 10, 5),\n",
    "              'degree': [2, 3, 4]}\n",
    "svm_poly = GridSearchCV(SVC(kernel='poly'), param_grid,\n",
    "                        cv=5, scoring='recall', refit=True)\n",
    "svm_poly.fit(X_train, y_train)\n",
    "\n",
    "# RBF\n",
    "param_grid = {'C': np.linspace(0.001, 100, 5),\n",
    "              'gamma': np.linspace(0.001, 100, 5)}\n",
    "rbf_poly = GridSearchCV(SVC(kernel='rbf'), param_grid, \n",
    "                        cv=5, scoring='recall', refit=True)\n",
    "rbf_poly.fit(X_train, y_train)\n",
    "\n",
    "# Sigmoid\n",
    "param_grid = {'C': np.linspace(0.001, 100, 5),\n",
    "              'gamma': np.linspace(0.001, 100, 5),\n",
    "              'coef0': np.linspace(-10, 10, 5)}\n",
    "sigm_poly = GridSearchCV(SVC(kernel='sigmoid'), param_grid, \n",
    "                         cv=5, scoring='recall', refit=True)\n",
    "sigm_poly.fit(X_train, y_train)"
   ]
  },
  {
   "cell_type": "code",
   "execution_count": 34,
   "id": "e256547f",
   "metadata": {},
   "outputs": [
    {
     "name": "stdout",
     "output_type": "stream",
     "text": [
      "SVC(C=0.001, coef0=-10.0, kernel='poly')\n",
      "cv score: 0.9582887700534759\n",
      "train score: 0.9461077844311377\n",
      "test score: 0.9583333333333334\n",
      "\n",
      "SVC(C=25.00075, gamma=0.001)\n",
      "cv score: 0.9581105169340465\n",
      "train score: 0.9700598802395209\n",
      "test score: 0.9583333333333334\n",
      "\n",
      "SVC(C=25.00075, gamma=0.001, kernel='sigmoid')\n",
      "cv score: 0.9581105169340465\n",
      "train score: 0.9640718562874252\n",
      "test score: 0.9583333333333334\n",
      "\n"
     ]
    }
   ],
   "source": [
    "for m in [svm_poly, rbf_poly, sigm_poly]:\n",
    "    cv_score = m.best_score_\n",
    "    m = m.best_estimator_\n",
    "    print(m)\n",
    "    \n",
    "    train_rec = recall_score(y_train, m.predict(X_train))\n",
    "    test_rec = recall_score(y_test, m.predict(X_test))\n",
    "    print(\"cv score: {}\".format(cv_score))\n",
    "    print(\"train score: {}\".format(train_rec))\n",
    "    print(\"test score: {}\\n\".format(test_rec))"
   ]
  },
  {
   "cell_type": "markdown",
   "id": "d9b7adad",
   "metadata": {},
   "source": [
    "We can see that all the kernels - linear, polynomial, RBF and Sigmoid - have the same performance looking at the cross validation sensitivity and the test sensitivity.\n",
    "\n",
    "Thus, I decided to repeat the same analysis using as evaluation score the accuracy to understand which kernel is the best one."
   ]
  },
  {
   "cell_type": "code",
   "execution_count": 35,
   "id": "289168bd",
   "metadata": {},
   "outputs": [
    {
     "data": {
      "text/plain": [
       "GridSearchCV(cv=5, estimator=SVC(kernel='sigmoid'),\n",
       "             param_grid={'C': array([1.000000e-03, 2.500075e+01, 5.000050e+01, 7.500025e+01,\n",
       "       1.000000e+02]),\n",
       "                         'coef0': array([-10.,  -5.,   0.,   5.,  10.]),\n",
       "                         'gamma': array([1.000000e-03, 2.500075e+01, 5.000050e+01, 7.500025e+01,\n",
       "       1.000000e+02])},\n",
       "             scoring='accuracy')"
      ]
     },
     "execution_count": 35,
     "metadata": {},
     "output_type": "execute_result"
    }
   ],
   "source": [
    "from sklearn.model_selection import GridSearchCV\n",
    "\n",
    "# use three different kernels (poly, rbf, sigmoid)\n",
    "\n",
    "# Polynomial\n",
    "param_grid = {'C': np.linspace(0.001, 10, 5),\n",
    "              'coef0': np.linspace(-10, 10, 5),\n",
    "              'degree': [2, 3, 4]}\n",
    "svm_poly = GridSearchCV(SVC(kernel='poly'), param_grid,\n",
    "                        cv=5, scoring='accuracy', refit=True)\n",
    "svm_poly.fit(X_train, y_train)\n",
    "\n",
    "# RBF\n",
    "param_grid = {'C': np.linspace(0.001, 100, 5),\n",
    "              'gamma': np.linspace(0.001, 100, 5)}\n",
    "rbf_poly = GridSearchCV(SVC(kernel='rbf'), param_grid, \n",
    "                        cv=5, scoring='accuracy', refit=True)\n",
    "rbf_poly.fit(X_train, y_train)\n",
    "\n",
    "# Sigmoid\n",
    "param_grid = {'C': np.linspace(0.001, 100, 5),\n",
    "              'gamma': np.linspace(0.001, 100, 5),\n",
    "              'coef0': np.linspace(-10, 10, 5)}\n",
    "sigm_poly = GridSearchCV(SVC(kernel='sigmoid'), param_grid, \n",
    "                         cv=5, scoring='accuracy', refit=True)\n",
    "sigm_poly.fit(X_train, y_train)"
   ]
  },
  {
   "cell_type": "code",
   "execution_count": 36,
   "id": "f97b1f5d",
   "metadata": {},
   "outputs": [
    {
     "name": "stdout",
     "output_type": "stream",
     "text": [
      "SVC(C=0.001, coef0=5.0, degree=4, kernel='poly')\n",
      "cv score: 0.9728070175438596\n",
      "train score: 0.9790794979079498\n",
      "test score: 0.9560975609756097\n",
      "\n",
      "SVC(C=25.00075, gamma=0.001)\n",
      "cv score: 0.9728070175438596\n",
      "train score: 0.9811715481171548\n",
      "test score: 0.9609756097560975\n",
      "\n",
      "SVC(C=25.00075, gamma=0.001, kernel='sigmoid')\n",
      "cv score: 0.9728070175438596\n",
      "train score: 0.9769874476987448\n",
      "test score: 0.9609756097560975\n",
      "\n"
     ]
    }
   ],
   "source": [
    "for m in [svm_poly, rbf_poly, sigm_poly]:\n",
    "    cv_score = m.best_score_\n",
    "    m = m.best_estimator_\n",
    "    print(m)\n",
    "    \n",
    "    train_acc = accuracy_score(y_train, m.predict(X_train))\n",
    "    test_acc = accuracy_score(y_test, m.predict(X_test))\n",
    "    print(\"cv score: {}\".format(cv_score))\n",
    "    print(\"train score: {}\".format(train_acc))\n",
    "    print(\"test score: {}\\n\".format(test_acc))"
   ]
  },
  {
   "cell_type": "markdown",
   "id": "fbf8a300",
   "metadata": {},
   "source": [
    "RBF and Sigmoid kernel have the same performance looking at the cross validation and test accuracy. Furthermore, both of them performs the best with C=25."
   ]
  },
  {
   "cell_type": "markdown",
   "id": "2b791c71",
   "metadata": {},
   "source": [
    "## Logistic Regressor and Perceptron vs SVM classifier - Robustness\n",
    "\n",
    "Comparison between three linear algorithms that produce a linear boundary: SVM, Logistic Regression and the Perceptron (usually less reliable than SVM)."
   ]
  },
  {
   "cell_type": "code",
   "execution_count": 37,
   "id": "9e137fd3",
   "metadata": {},
   "outputs": [
    {
     "name": "stdout",
     "output_type": "stream",
     "text": [
      "SVC train score: 0.9700598802395209\n",
      "SVC test score: 0.9583333333333334\n",
      "LogisticRegression train score: 0.9640718562874252\n",
      "LogisticRegression test score: 0.9444444444444444\n",
      "Perceptron train score: 0.9640718562874252\n",
      "Perceptron test score: 0.9305555555555556\n"
     ]
    }
   ],
   "source": [
    "from sklearn.svm import SVC\n",
    "from sklearn.linear_model import Perceptron\n",
    "from sklearn.metrics import accuracy_score\n",
    "\n",
    "# Train the SVM\n",
    "svm_model = SVC(kernel='linear',C=25)\n",
    "svm_model.fit(X_train, y_train)\n",
    "\n",
    "# Train a LogisticRegressor\n",
    "lr_model = LogisticRegression(fit_intercept=True, solver='lbfgs')\n",
    "lr_model.fit(X_train, y_train)\n",
    "\n",
    "# Train a Perceptron classifier \n",
    "pt_model = Perceptron()\n",
    "pt_model.fit(X_train, y_train)\n",
    "\n",
    "for m in [svm_model, lr_model, pt_model]:\n",
    "    train_rec = recall_score(y_train, m.predict(X_train))\n",
    "    test_rec = recall_score(y_test, m.predict(X_test))\n",
    "    print(\"{} train score: {}\".format(m.__class__.__name__, train_rec))\n",
    "    print(\"{} test score: {}\".format(m.__class__.__name__, test_rec))"
   ]
  },
  {
   "cell_type": "markdown",
   "id": "3fe69ec7",
   "metadata": {},
   "source": [
    "Perceptron is the model with the lowest test sensitivity: this suggests that the problem is not linearly separable.\n",
    "The best linear classifier according with test sensitivity is Support Vector Machine, while the Logistic Regressor has a performance that is between the one of Perceptron and SVM."
   ]
  },
  {
   "cell_type": "markdown",
   "id": "4d99d287",
   "metadata": {},
   "source": [
    "## Model evaluation\n",
    "\n",
    "Since we previously saw that RBS and Sigmoid kernel are the ones for which the SVM classifier performs the best according to cross validation and test accuracy, I decided to look at all the possible evaluation metrics to understand which kernel is actually the best."
   ]
  },
  {
   "cell_type": "code",
   "execution_count": 38,
   "id": "1e82fefb",
   "metadata": {},
   "outputs": [
    {
     "name": "stdout",
     "output_type": "stream",
     "text": [
      "Train accuracy Sigmoid kernel: 0.9811715481171548\n",
      "Test accuracy Sigmoid kernel: 0.9609756097560975\n",
      "Sensitivity  0.9583333333333334\n",
      "Specificity  0.9624060150375939\n",
      "Precision  0.9324324324324325\n",
      "F1-score 0.9452054794520548\n",
      "AUC test: 0.9916457811194652\n",
      "\n"
     ]
    },
    {
     "data": {
      "image/png": "[encoded data removed]",
      "text/plain": [
       "<Figure size 432x288 with 1 Axes>"
      ]
     },
     "metadata": {
      "needs_background": "light"
     },
     "output_type": "display_data"
    }
   ],
   "source": [
    "svm_model = SVC(kernel='rbf', C=25, gamma=0.001, probability=True)\n",
    "svm_model = svm_model.fit(X_train, y_train)\n",
    "\n",
    "print(\"Train accuracy Sigmoid kernel:\", accuracy(y_train, svm_model.predict(X_train)))\n",
    "print(\"Test accuracy Sigmoid kernel:\", accuracy(y_test, svm_model.predict(X_test)))\n",
    "\n",
    "cm = confusion_matrix(y_test,svm_model.predict(X_test))\n",
    "\n",
    "print(\"Sensitivity \", sensitivity(cm))\n",
    "print(\"Specificity \", specificity(cm))\n",
    "print(\"Precision \", precision(cm))\n",
    "print(\"F1-score\", f1(cm))\n",
    "print(f'AUC test: {roc_auc_score(y_test, svm_model.predict_proba(X_test)[:, 1])}\\n')\n",
    "\n",
    "def plot_roc(predict_fn, X, y, label=None):\n",
    "    fprs, tprs, t = roc_curve(y, predict_fn(X)[:,-1])\n",
    "    \n",
    "    # Plot the ROC\n",
    "    plt.plot(fprs, tprs, label=\"ROC \"+label)\n",
    "    plt.xlabel(\"FPR = 1 - specificity\")\n",
    "    plt.ylabel(\"TPR = sensitivity\")\n",
    "    plt.legend()\n",
    "    \n",
    "plot_roc(svm_model.predict_proba, X_test, y_test, \"SVM Test\")\n",
    "plot_roc(svm_model.predict_proba, X_train, y_train, \"SVM Train\")"
   ]
  },
  {
   "cell_type": "code",
   "execution_count": 39,
   "id": "b004d8ed",
   "metadata": {},
   "outputs": [
    {
     "name": "stdout",
     "output_type": "stream",
     "text": [
      "Train accuracy Sigmoid kernel: 0.9769874476987448\n",
      "Test accuracy Sigmoid kernel: 0.9609756097560975\n",
      "Sensitivity  0.9583333333333334\n",
      "Specificity  0.9624060150375939\n",
      "Precision  0.9324324324324325\n",
      "F1-score 0.9452054794520548\n",
      "AUC test: 0.9926900584795322\n",
      "\n"
     ]
    },
    {
     "data": {
      "image/png": "[encoded data removed]",
      "text/plain": [
       "<Figure size 432x288 with 1 Axes>"
      ]
     },
     "metadata": {
      "needs_background": "light"
     },
     "output_type": "display_data"
    }
   ],
   "source": [
    "svm_model = SVC(kernel='sigmoid', C=25, gamma=0.001, probability=True)\n",
    "svm_model = svm_model.fit(X_train, y_train)\n",
    "\n",
    "print(\"Train accuracy Sigmoid kernel:\", accuracy(y_train, svm_model.predict(X_train)))\n",
    "print(\"Test accuracy Sigmoid kernel:\", accuracy(y_test, svm_model.predict(X_test)))\n",
    "\n",
    "cm = confusion_matrix(y_test,svm_model.predict(X_test))\n",
    "\n",
    "print(\"Sensitivity \", sensitivity(cm))\n",
    "print(\"Specificity \", specificity(cm))\n",
    "print(\"Precision \", precision(cm))\n",
    "print(\"F1-score\", f1(cm))\n",
    "print(f'AUC test: {roc_auc_score(y_test, svm_model.predict_proba(X_test)[:, 1])}\\n')\n",
    "\n",
    "def plot_roc(predict_fn, X, y, label=None):\n",
    "    fprs, tprs, t = roc_curve(y, predict_fn(X)[:,-1])\n",
    "    \n",
    "    # Plot the ROC\n",
    "    plt.plot(fprs, tprs, label=\"ROC \"+label)\n",
    "    plt.xlabel(\"FPR = 1 - specificity\")\n",
    "    plt.ylabel(\"TPR = sensitivity\")\n",
    "    plt.legend()\n",
    "    \n",
    "plot_roc(svm_model.predict_proba, X_test, y_test, \"SVM Test\")\n",
    "plot_roc(svm_model.predict_proba, X_train, y_train, \"SVM Train\")"
   ]
  },
  {
   "cell_type": "markdown",
   "id": "fab5918f",
   "metadata": {},
   "source": [
    "The two SVM models trained using data transformed applying RBF and Sigmoid kernels perform exactly the same looking at all the possible metrics but one: the area under the ROC curve of the SVM classifier with Sigmoid kernel is slightly higher. \n",
    "Anyway I can conclude that the two kernels perform in equivalent way."
   ]
  },
  {
   "cell_type": "markdown",
   "id": "dfcd38f6",
   "metadata": {},
   "source": [
    "# Comparison between all the classification models"
   ]
  },
  {
   "cell_type": "code",
   "execution_count": 40,
   "id": "717bc09e",
   "metadata": {},
   "outputs": [
    {
     "data": {
      "image/png": "[encoded data removed]",
      "text/plain": [
       "<Figure size 432x288 with 1 Axes>"
      ]
     },
     "metadata": {
      "needs_background": "light"
     },
     "output_type": "display_data"
    }
   ],
   "source": [
    "from sklearn.model_selection import cross_val_score\n",
    "\n",
    "logistic = LogisticRegression(solver=\"newton-cg\", penalty='none')  \n",
    "lda = LDA()\n",
    "lda_poly = Pipeline([('poly', PolynomialFeatures(degree=2)),\n",
    "                     ('lda', LDA(store_covariance=True))])\n",
    "qda = QDA()\n",
    "knn = KNeighborsClassifier(n_neighbors=3)\n",
    "svm_model = SVC(kernel='sigmoid', C=25, gamma=0.001, probability=True)\n",
    "\n",
    "from collections import OrderedDict\n",
    "models = OrderedDict([('logistic', logistic), ('lda', lda), ('lda_poly', lda_poly), ('qda', qda),\n",
    "                      ('knn', knn), ('svm_sigmoid', svm_model)])\n",
    "    \n",
    "cv_scores, test_scores, sensitivity_scores, f1_scores, AUC_scores = [], [], [], [], []\n",
    "for name, model in models.items():\n",
    "    scores = cross_val_score(model, X_train, y_train, cv=10, scoring = make_scorer(recall_score))  \n",
    "    cv_score = np.mean(scores)\n",
    "    cv_scores.append(cv_score)\n",
    "    \n",
    "    model.fit(X_train, y_train) \n",
    "    test_score = accuracy(y_test, model.predict(X_test))\n",
    "    test_scores.append(test_score)\n",
    "    \n",
    "    cm = confusion_matrix(y_test, model.predict(X_test))\n",
    "    s = sensitivity(cm)\n",
    "    sensitivity_scores.append(s)\n",
    "    \n",
    "    f = f1(cm)\n",
    "    f1_scores.append(f)\n",
    "    \n",
    "    auc = roc_auc_score(y_test, model.predict_proba(X_test)[:, 1])\n",
    "    AUC_scores.append(auc)\n",
    "    \n",
    "    plot_roc(model.predict_proba, X_test, y_test, f\"{name} Test\")\n",
    "    plot_roc(model.predict_proba, X_train, y_train, f\"{name} Train\")"
   ]
  },
  {
   "cell_type": "code",
   "execution_count": 41,
   "id": "4cc4b7de",
   "metadata": {},
   "outputs": [
    {
     "data": {
      "text/plain": [
       "<matplotlib.legend.Legend at 0x7fb833787070>"
      ]
     },
     "execution_count": 41,
     "metadata": {},
     "output_type": "execute_result"
    },
    {
     "data": {
      "image/png": "[encoded data removed]",
      "text/plain": [
       "<Figure size 432x288 with 1 Axes>"
      ]
     },
     "metadata": {
      "needs_background": "light"
     },
     "output_type": "display_data"
    }
   ],
   "source": [
    "data = pd.DataFrame()\n",
    "data['model'] = list(models.keys()) * 5\n",
    "data['metric'] = ['10-cv sensitivity'] * len(cv_scores) + ['test accuracy'] * len(test_scores) + ['sensitivity'] * len(sensitivity_scores) + ['f1 score'] * len(f1_scores) + ['test AUC'] * len(AUC_scores)\n",
    "data['score'] = cv_scores + test_scores + sensitivity_scores + f1_scores + AUC_scores\n",
    "\n",
    "sns.barplot(x='model', y='score', data=data, hue='metric')\n",
    "plt.legend(loc='lower right')"
   ]
  },
  {
   "cell_type": "code",
   "execution_count": 42,
   "id": "f5cf2224",
   "metadata": {},
   "outputs": [
    {
     "data": {
      "text/html": [
       "<div>\n",
       "<style scoped>\n",
       "    .dataframe tbody tr th:only-of-type {\n",
       "        vertical-align: middle;\n",
       "    }\n",
       "\n",
       "    .dataframe tbody tr th {\n",
       "        vertical-align: top;\n",
       "    }\n",
       "\n",
       "    .dataframe thead th {\n",
       "        text-align: right;\n",
       "    }\n",
       "</style>\n",
       "<table border=\"1\" class=\"dataframe\">\n",
       "  <thead>\n",
       "    <tr style=\"text-align: right;\">\n",
       "      <th></th>\n",
       "      <th>model</th>\n",
       "      <th>metric</th>\n",
       "      <th>score</th>\n",
       "    </tr>\n",
       "  </thead>\n",
       "  <tbody>\n",
       "    <tr>\n",
       "      <th>0</th>\n",
       "      <td>logistic</td>\n",
       "      <td>10-cv sensitivity</td>\n",
       "      <td>0.945956</td>\n",
       "    </tr>\n",
       "    <tr>\n",
       "      <th>1</th>\n",
       "      <td>lda</td>\n",
       "      <td>10-cv sensitivity</td>\n",
       "      <td>0.922426</td>\n",
       "    </tr>\n",
       "    <tr>\n",
       "      <th>2</th>\n",
       "      <td>lda_poly</td>\n",
       "      <td>10-cv sensitivity</td>\n",
       "      <td>0.928309</td>\n",
       "    </tr>\n",
       "    <tr>\n",
       "      <th>3</th>\n",
       "      <td>qda</td>\n",
       "      <td>10-cv sensitivity</td>\n",
       "      <td>0.981618</td>\n",
       "    </tr>\n",
       "    <tr>\n",
       "      <th>4</th>\n",
       "      <td>knn</td>\n",
       "      <td>10-cv sensitivity</td>\n",
       "      <td>0.963971</td>\n",
       "    </tr>\n",
       "    <tr>\n",
       "      <th>5</th>\n",
       "      <td>svm_sigmoid</td>\n",
       "      <td>10-cv sensitivity</td>\n",
       "      <td>0.957721</td>\n",
       "    </tr>\n",
       "    <tr>\n",
       "      <th>6</th>\n",
       "      <td>logistic</td>\n",
       "      <td>test accuracy</td>\n",
       "      <td>0.956098</td>\n",
       "    </tr>\n",
       "    <tr>\n",
       "      <th>7</th>\n",
       "      <td>lda</td>\n",
       "      <td>test accuracy</td>\n",
       "      <td>0.936585</td>\n",
       "    </tr>\n",
       "    <tr>\n",
       "      <th>8</th>\n",
       "      <td>lda_poly</td>\n",
       "      <td>test accuracy</td>\n",
       "      <td>0.951220</td>\n",
       "    </tr>\n",
       "    <tr>\n",
       "      <th>9</th>\n",
       "      <td>qda</td>\n",
       "      <td>test accuracy</td>\n",
       "      <td>0.956098</td>\n",
       "    </tr>\n",
       "    <tr>\n",
       "      <th>10</th>\n",
       "      <td>knn</td>\n",
       "      <td>test accuracy</td>\n",
       "      <td>0.956098</td>\n",
       "    </tr>\n",
       "    <tr>\n",
       "      <th>11</th>\n",
       "      <td>svm_sigmoid</td>\n",
       "      <td>test accuracy</td>\n",
       "      <td>0.960976</td>\n",
       "    </tr>\n",
       "    <tr>\n",
       "      <th>12</th>\n",
       "      <td>logistic</td>\n",
       "      <td>sensitivity</td>\n",
       "      <td>0.944444</td>\n",
       "    </tr>\n",
       "    <tr>\n",
       "      <th>13</th>\n",
       "      <td>lda</td>\n",
       "      <td>sensitivity</td>\n",
       "      <td>0.888889</td>\n",
       "    </tr>\n",
       "    <tr>\n",
       "      <th>14</th>\n",
       "      <td>lda_poly</td>\n",
       "      <td>sensitivity</td>\n",
       "      <td>0.930556</td>\n",
       "    </tr>\n",
       "    <tr>\n",
       "      <th>15</th>\n",
       "      <td>qda</td>\n",
       "      <td>sensitivity</td>\n",
       "      <td>0.958333</td>\n",
       "    </tr>\n",
       "    <tr>\n",
       "      <th>16</th>\n",
       "      <td>knn</td>\n",
       "      <td>sensitivity</td>\n",
       "      <td>0.944444</td>\n",
       "    </tr>\n",
       "    <tr>\n",
       "      <th>17</th>\n",
       "      <td>svm_sigmoid</td>\n",
       "      <td>sensitivity</td>\n",
       "      <td>0.958333</td>\n",
       "    </tr>\n",
       "    <tr>\n",
       "      <th>18</th>\n",
       "      <td>logistic</td>\n",
       "      <td>f1 score</td>\n",
       "      <td>0.937931</td>\n",
       "    </tr>\n",
       "    <tr>\n",
       "      <th>19</th>\n",
       "      <td>lda</td>\n",
       "      <td>f1 score</td>\n",
       "      <td>0.907801</td>\n",
       "    </tr>\n",
       "    <tr>\n",
       "      <th>20</th>\n",
       "      <td>lda_poly</td>\n",
       "      <td>f1 score</td>\n",
       "      <td>0.930556</td>\n",
       "    </tr>\n",
       "    <tr>\n",
       "      <th>21</th>\n",
       "      <td>qda</td>\n",
       "      <td>f1 score</td>\n",
       "      <td>0.938776</td>\n",
       "    </tr>\n",
       "    <tr>\n",
       "      <th>22</th>\n",
       "      <td>knn</td>\n",
       "      <td>f1 score</td>\n",
       "      <td>0.937931</td>\n",
       "    </tr>\n",
       "    <tr>\n",
       "      <th>23</th>\n",
       "      <td>svm_sigmoid</td>\n",
       "      <td>f1 score</td>\n",
       "      <td>0.945205</td>\n",
       "    </tr>\n",
       "    <tr>\n",
       "      <th>24</th>\n",
       "      <td>logistic</td>\n",
       "      <td>test AUC</td>\n",
       "      <td>0.990915</td>\n",
       "    </tr>\n",
       "    <tr>\n",
       "      <th>25</th>\n",
       "      <td>lda</td>\n",
       "      <td>test AUC</td>\n",
       "      <td>0.989557</td>\n",
       "    </tr>\n",
       "    <tr>\n",
       "      <th>26</th>\n",
       "      <td>lda_poly</td>\n",
       "      <td>test AUC</td>\n",
       "      <td>0.988617</td>\n",
       "    </tr>\n",
       "    <tr>\n",
       "      <th>27</th>\n",
       "      <td>qda</td>\n",
       "      <td>test AUC</td>\n",
       "      <td>0.985276</td>\n",
       "    </tr>\n",
       "    <tr>\n",
       "      <th>28</th>\n",
       "      <td>knn</td>\n",
       "      <td>test AUC</td>\n",
       "      <td>0.964703</td>\n",
       "    </tr>\n",
       "    <tr>\n",
       "      <th>29</th>\n",
       "      <td>svm_sigmoid</td>\n",
       "      <td>test AUC</td>\n",
       "      <td>0.992690</td>\n",
       "    </tr>\n",
       "  </tbody>\n",
       "</table>\n",
       "</div>"
      ],
      "text/plain": [
       "          model             metric     score\n",
       "0      logistic  10-cv sensitivity  0.945956\n",
       "1           lda  10-cv sensitivity  0.922426\n",
       "2      lda_poly  10-cv sensitivity  0.928309\n",
       "3           qda  10-cv sensitivity  0.981618\n",
       "4           knn  10-cv sensitivity  0.963971\n",
       "5   svm_sigmoid  10-cv sensitivity  0.957721\n",
       "6      logistic      test accuracy  0.956098\n",
       "7           lda      test accuracy  0.936585\n",
       "8      lda_poly      test accuracy  0.951220\n",
       "9           qda      test accuracy  0.956098\n",
       "10          knn      test accuracy  0.956098\n",
       "11  svm_sigmoid      test accuracy  0.960976\n",
       "12     logistic        sensitivity  0.944444\n",
       "13          lda        sensitivity  0.888889\n",
       "14     lda_poly        sensitivity  0.930556\n",
       "15          qda        sensitivity  0.958333\n",
       "16          knn        sensitivity  0.944444\n",
       "17  svm_sigmoid        sensitivity  0.958333\n",
       "18     logistic           f1 score  0.937931\n",
       "19          lda           f1 score  0.907801\n",
       "20     lda_poly           f1 score  0.930556\n",
       "21          qda           f1 score  0.938776\n",
       "22          knn           f1 score  0.937931\n",
       "23  svm_sigmoid           f1 score  0.945205\n",
       "24     logistic           test AUC  0.990915\n",
       "25          lda           test AUC  0.989557\n",
       "26     lda_poly           test AUC  0.988617\n",
       "27          qda           test AUC  0.985276\n",
       "28          knn           test AUC  0.964703\n",
       "29  svm_sigmoid           test AUC  0.992690"
      ]
     },
     "execution_count": 42,
     "metadata": {},
     "output_type": "execute_result"
    }
   ],
   "source": [
    "data"
   ]
  },
  {
   "cell_type": "code",
   "execution_count": 43,
   "id": "e63074cb",
   "metadata": {},
   "outputs": [
    {
     "data": {
      "text/html": [
       "<div>\n",
       "<style scoped>\n",
       "    .dataframe tbody tr th:only-of-type {\n",
       "        vertical-align: middle;\n",
       "    }\n",
       "\n",
       "    .dataframe tbody tr th {\n",
       "        vertical-align: top;\n",
       "    }\n",
       "\n",
       "    .dataframe thead th {\n",
       "        text-align: right;\n",
       "    }\n",
       "</style>\n",
       "<table border=\"1\" class=\"dataframe\">\n",
       "  <thead>\n",
       "    <tr style=\"text-align: right;\">\n",
       "      <th></th>\n",
       "      <th>model</th>\n",
       "      <th>metric</th>\n",
       "      <th>score</th>\n",
       "    </tr>\n",
       "  </thead>\n",
       "  <tbody>\n",
       "    <tr>\n",
       "      <th>3</th>\n",
       "      <td>qda</td>\n",
       "      <td>10-cv sensitivity</td>\n",
       "      <td>0.981618</td>\n",
       "    </tr>\n",
       "  </tbody>\n",
       "</table>\n",
       "</div>"
      ],
      "text/plain": [
       "  model             metric     score\n",
       "3   qda  10-cv sensitivity  0.981618"
      ]
     },
     "execution_count": 43,
     "metadata": {},
     "output_type": "execute_result"
    }
   ],
   "source": [
    "# best model according to cv sensitivity\n",
    "data[data['score'] == max(data[data['metric'] == '10-cv sensitivity']['score'])]"
   ]
  },
  {
   "cell_type": "code",
   "execution_count": 44,
   "id": "009f77df",
   "metadata": {},
   "outputs": [
    {
     "data": {
      "text/html": [
       "<div>\n",
       "<style scoped>\n",
       "    .dataframe tbody tr th:only-of-type {\n",
       "        vertical-align: middle;\n",
       "    }\n",
       "\n",
       "    .dataframe tbody tr th {\n",
       "        vertical-align: top;\n",
       "    }\n",
       "\n",
       "    .dataframe thead th {\n",
       "        text-align: right;\n",
       "    }\n",
       "</style>\n",
       "<table border=\"1\" class=\"dataframe\">\n",
       "  <thead>\n",
       "    <tr style=\"text-align: right;\">\n",
       "      <th></th>\n",
       "      <th>model</th>\n",
       "      <th>metric</th>\n",
       "      <th>score</th>\n",
       "    </tr>\n",
       "  </thead>\n",
       "  <tbody>\n",
       "    <tr>\n",
       "      <th>11</th>\n",
       "      <td>svm_sigmoid</td>\n",
       "      <td>test accuracy</td>\n",
       "      <td>0.960976</td>\n",
       "    </tr>\n",
       "  </tbody>\n",
       "</table>\n",
       "</div>"
      ],
      "text/plain": [
       "          model         metric     score\n",
       "11  svm_sigmoid  test accuracy  0.960976"
      ]
     },
     "execution_count": 44,
     "metadata": {},
     "output_type": "execute_result"
    }
   ],
   "source": [
    "# best model according to test accuracy\n",
    "data[data['score'] == max(data[data['metric'] == 'test accuracy']['score'])]"
   ]
  },
  {
   "cell_type": "code",
   "execution_count": 45,
   "id": "3d3f9b51",
   "metadata": {},
   "outputs": [
    {
     "data": {
      "text/html": [
       "<div>\n",
       "<style scoped>\n",
       "    .dataframe tbody tr th:only-of-type {\n",
       "        vertical-align: middle;\n",
       "    }\n",
       "\n",
       "    .dataframe tbody tr th {\n",
       "        vertical-align: top;\n",
       "    }\n",
       "\n",
       "    .dataframe thead th {\n",
       "        text-align: right;\n",
       "    }\n",
       "</style>\n",
       "<table border=\"1\" class=\"dataframe\">\n",
       "  <thead>\n",
       "    <tr style=\"text-align: right;\">\n",
       "      <th></th>\n",
       "      <th>model</th>\n",
       "      <th>metric</th>\n",
       "      <th>score</th>\n",
       "    </tr>\n",
       "  </thead>\n",
       "  <tbody>\n",
       "    <tr>\n",
       "      <th>15</th>\n",
       "      <td>qda</td>\n",
       "      <td>sensitivity</td>\n",
       "      <td>0.958333</td>\n",
       "    </tr>\n",
       "    <tr>\n",
       "      <th>17</th>\n",
       "      <td>svm_sigmoid</td>\n",
       "      <td>sensitivity</td>\n",
       "      <td>0.958333</td>\n",
       "    </tr>\n",
       "  </tbody>\n",
       "</table>\n",
       "</div>"
      ],
      "text/plain": [
       "          model       metric     score\n",
       "15          qda  sensitivity  0.958333\n",
       "17  svm_sigmoid  sensitivity  0.958333"
      ]
     },
     "execution_count": 45,
     "metadata": {},
     "output_type": "execute_result"
    }
   ],
   "source": [
    "# best model according to sensitivity\n",
    "data[data['score'] == max(data[data['metric'] == 'sensitivity']['score'])]"
   ]
  },
  {
   "cell_type": "code",
   "execution_count": 46,
   "id": "9a02160f",
   "metadata": {},
   "outputs": [
    {
     "data": {
      "text/html": [
       "<div>\n",
       "<style scoped>\n",
       "    .dataframe tbody tr th:only-of-type {\n",
       "        vertical-align: middle;\n",
       "    }\n",
       "\n",
       "    .dataframe tbody tr th {\n",
       "        vertical-align: top;\n",
       "    }\n",
       "\n",
       "    .dataframe thead th {\n",
       "        text-align: right;\n",
       "    }\n",
       "</style>\n",
       "<table border=\"1\" class=\"dataframe\">\n",
       "  <thead>\n",
       "    <tr style=\"text-align: right;\">\n",
       "      <th></th>\n",
       "      <th>model</th>\n",
       "      <th>metric</th>\n",
       "      <th>score</th>\n",
       "    </tr>\n",
       "  </thead>\n",
       "  <tbody>\n",
       "    <tr>\n",
       "      <th>23</th>\n",
       "      <td>svm_sigmoid</td>\n",
       "      <td>f1 score</td>\n",
       "      <td>0.945205</td>\n",
       "    </tr>\n",
       "  </tbody>\n",
       "</table>\n",
       "</div>"
      ],
      "text/plain": [
       "          model    metric     score\n",
       "23  svm_sigmoid  f1 score  0.945205"
      ]
     },
     "execution_count": 46,
     "metadata": {},
     "output_type": "execute_result"
    }
   ],
   "source": [
    "# best model according f1 score\n",
    "data[data['score'] == max(data[data['metric'] == 'f1 score']['score'])]"
   ]
  },
  {
   "cell_type": "code",
   "execution_count": 47,
   "id": "79ce8ad7",
   "metadata": {},
   "outputs": [
    {
     "data": {
      "text/html": [
       "<div>\n",
       "<style scoped>\n",
       "    .dataframe tbody tr th:only-of-type {\n",
       "        vertical-align: middle;\n",
       "    }\n",
       "\n",
       "    .dataframe tbody tr th {\n",
       "        vertical-align: top;\n",
       "    }\n",
       "\n",
       "    .dataframe thead th {\n",
       "        text-align: right;\n",
       "    }\n",
       "</style>\n",
       "<table border=\"1\" class=\"dataframe\">\n",
       "  <thead>\n",
       "    <tr style=\"text-align: right;\">\n",
       "      <th></th>\n",
       "      <th>model</th>\n",
       "      <th>metric</th>\n",
       "      <th>score</th>\n",
       "    </tr>\n",
       "  </thead>\n",
       "  <tbody>\n",
       "    <tr>\n",
       "      <th>29</th>\n",
       "      <td>svm_sigmoid</td>\n",
       "      <td>test AUC</td>\n",
       "      <td>0.99269</td>\n",
       "    </tr>\n",
       "  </tbody>\n",
       "</table>\n",
       "</div>"
      ],
      "text/plain": [
       "          model    metric    score\n",
       "29  svm_sigmoid  test AUC  0.99269"
      ]
     },
     "execution_count": 47,
     "metadata": {},
     "output_type": "execute_result"
    }
   ],
   "source": [
    "# best model according AUC score\n",
    "data[data['score'] == max(data[data['metric'] == 'test AUC']['score'])]"
   ]
  },
  {
   "cell_type": "markdown",
   "id": "5564df51",
   "metadata": {},
   "source": [
    "From this final summary of the performance of all the possible classification models we can clearly see that the classes are not linearly separable since all the linear classifiers - Logistic Regression and linear LDA - show the worst performance. \n",
    "\n",
    "The best model according to the sensitivity measured on test set as well as the cross validation sensitivity is QDA.\n",
    "While SVM with Sigmoid kernel is the best model considering the test accuracy, the f1 score, the test AUC score and also the sensitivity (with the same performance of QDA).\n",
    "\n",
    "Since what I want to favour is avoiding diagnoising ill people as healthy, the most important score to look at is the sensitivity, since higher is the true positive rate lower is the number of false negatives.\n",
    "Quadratic Discriminant Analysis and SVM with Sigmoid kernel are the models that ensure the least number of false negatives. For QDA this capability is confirmed also by the sensitivity computed through cross validation.\n",
    "SVM with Sigmoid kernel at the same time has the highest accuracy computed on new observations, and so on average this is the model that classifies the data in the most correct way, and also it has the highest f1 score meaning it is the most accurate and precise model.\n",
    "\n",
    "SVM with Sigmoid kernel has a very high AUC on the test set, while QDA is one of the classifiers with the lowest value of this score, althought it is anyway very high.\n",
    "Consequently, looking at the specificity I expect SVM-Sigmoid to have a higher value of this metric than QDA, considering that they have exactly the same sensitivity but different AUC value.\n",
    "\n",
    "In conclusion I can say that both the classifiers, QDA and SVM-Sigmoid, work very well since they ensure that the greatest proportion of diseased people are detected. SVM-Sigmoid is the model that makes the lowest number of misclassifications, it has the best sensitivity, a very high AUC score and the highest f1 score, indicating that it is extremely accurate and precise.\n",
    "However also QDA is very good since the fact it predicts more false positives is somehow the price it has to pay to avoid having lot of false negative predictions: by the end what is mostly important is that the model is able to detect diseased people and this model is as able to do it as well as SVM with Sigmoid kernel."
   ]
  }
 ],
 "metadata": {
  "kernelspec": {
   "display_name": "Python 3",
   "language": "python",
   "name": "python3"
  },
  "language_info": {
   "codemirror_mode": {
    "name": "ipython",
    "version": 3
   },
   "file_extension": ".py",
   "mimetype": "text/x-python",
   "name": "python",
   "nbconvert_exporter": "python",
   "pygments_lexer": "ipython3",
   "version": "3.8.8"
  }
 },
 "nbformat": 4,
 "nbformat_minor": 5
}
